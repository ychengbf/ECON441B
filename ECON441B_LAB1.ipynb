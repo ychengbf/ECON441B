{
  "nbformat": 4,
  "nbformat_minor": 0,
  "metadata": {
    "colab": {
      "provenance": [],
      "authorship_tag": "ABX9TyMMQXy70poi8qPXzjEvVfP9",
      "include_colab_link": true
    },
    "kernelspec": {
      "name": "python3",
      "display_name": "Python 3"
    },
    "language_info": {
      "name": "python"
    }
  },
  "cells": [
    {
      "cell_type": "markdown",
      "metadata": {
        "id": "view-in-github",
        "colab_type": "text"
      },
      "source": [
        "<a href=\"https://colab.research.google.com/github/ychengbf/ECON441B/blob/main/ECON441B_LAB1.ipynb\" target=\"_parent\"><img src=\"https://colab.research.google.com/assets/colab-badge.svg\" alt=\"Open In Colab\"/></a>"
      ]
    },
    {
      "cell_type": "code",
      "execution_count": 13,
      "metadata": {
        "colab": {
          "base_uri": "https://localhost:8080/"
        },
        "id": "Z9NhRou9WlWF",
        "outputId": "b06c80ec-58aa-4387-f2ff-61721d76925c"
      },
      "outputs": [
        {
          "output_type": "stream",
          "name": "stdout",
          "text": [
            "Mounted at /content/gdrive/\n"
          ]
        }
      ],
      "source": [
        "import pandas as pd\n",
        "from google.colab import drive\n",
        "drive.mount('/content/gdrive/',force_remount = True)\n",
        "import matplotlib.pyplot as plt"
      ]
    },
    {
      "cell_type": "code",
      "source": [
        "df = pd.read_csv(\"/content/gdrive/MyDrive/ECON441B/Trade.csv\")"
      ],
      "metadata": {
        "id": "n9FuwQ8HXOvn"
      },
      "execution_count": 14,
      "outputs": []
    },
    {
      "cell_type": "code",
      "source": [
        "df.set_index(\"recieve_time\",inplace = True)"
      ],
      "metadata": {
        "id": "lavvX_qaXvDn"
      },
      "execution_count": 15,
      "outputs": []
    },
    {
      "cell_type": "code",
      "source": [
        "df.index = pd.to_datetime(df.index)\n",
        "df.head()"
      ],
      "metadata": {
        "colab": {
          "base_uri": "https://localhost:8080/",
          "height": 388
        },
        "id": "kw-mQlMEX5pF",
        "outputId": "fb351b4a-a753-43ff-f073-214083958bbd"
      },
      "execution_count": 16,
      "outputs": [
        {
          "output_type": "execute_result",
          "data": {
            "text/plain": [
              "                            gatewayName  rawData  symbol exchange vtSymbol  \\\n",
              "recieve_time                                                                 \n",
              "2021-11-17 14:54:06.758797          NaN      NaN  cs2203      DCE   cs2203   \n",
              "2021-11-17 14:54:06.758797          NaN      NaN   c2203      DCE    c2203   \n",
              "2021-11-17 21:02:52.304763          NaN      NaN  cs2203      DCE   cs2203   \n",
              "2021-11-17 21:02:52.392701          NaN      NaN  cs2203      DCE   cs2203   \n",
              "2021-11-17 21:02:52.393701          NaN      NaN   c2203      DCE    c2203   \n",
              "\n",
              "                            tradeID  vtTradeID  orderID  \\\n",
              "recieve_time                                              \n",
              "2021-11-17 14:54:06.758797   278122     278122      337   \n",
              "2021-11-17 14:54:06.758797   278123     278123      338   \n",
              "2021-11-17 21:02:52.304763     6904       6904       16   \n",
              "2021-11-17 21:02:52.392701     6905       6905       17   \n",
              "2021-11-17 21:02:52.393701     6906       6906       18   \n",
              "\n",
              "                                            vtOrderID direction offset  \\\n",
              "recieve_time                                                             \n",
              "2021-11-17 14:54:06.758797  20211117_DCE_      810314         空     开仓   \n",
              "2021-11-17 14:54:06.758797  20211117_DCE_      810315         多     开仓   \n",
              "2021-11-17 21:02:52.304763  20211117_DCE_       12790         多     开仓   \n",
              "2021-11-17 21:02:52.392701  20211117_DCE_       12791         多     平仓   \n",
              "2021-11-17 21:02:52.393701  20211117_DCE_       12792         空     平仓   \n",
              "\n",
              "                             price  volume          tradeTime  commission  \\\n",
              "recieve_time                                                                \n",
              "2021-11-17 14:54:06.758797  3179.0       1  20211117 14:54:05         0.0   \n",
              "2021-11-17 14:54:06.758797  2670.0       2  20211117 14:54:05         0.0   \n",
              "2021-11-17 21:02:52.304763  3182.0       1  20211117 21:02:53         0.0   \n",
              "2021-11-17 21:02:52.392701  3182.0       1  20211117 21:02:53         0.0   \n",
              "2021-11-17 21:02:52.393701  2677.0       2  20211117 21:02:53         0.0   \n",
              "\n",
              "                            balance  \n",
              "recieve_time                         \n",
              "2021-11-17 14:54:06.758797  49999.4  \n",
              "2021-11-17 14:54:06.758797  49997.9  \n",
              "2021-11-17 21:02:52.304763  50117.3  \n",
              "2021-11-17 21:02:52.392701  50116.1  \n",
              "2021-11-17 21:02:52.393701  50113.1  "
            ],
            "text/html": [
              "\n",
              "  <div id=\"df-af34fdb1-6075-4677-9876-dd2a8e021c14\">\n",
              "    <div class=\"colab-df-container\">\n",
              "      <div>\n",
              "<style scoped>\n",
              "    .dataframe tbody tr th:only-of-type {\n",
              "        vertical-align: middle;\n",
              "    }\n",
              "\n",
              "    .dataframe tbody tr th {\n",
              "        vertical-align: top;\n",
              "    }\n",
              "\n",
              "    .dataframe thead th {\n",
              "        text-align: right;\n",
              "    }\n",
              "</style>\n",
              "<table border=\"1\" class=\"dataframe\">\n",
              "  <thead>\n",
              "    <tr style=\"text-align: right;\">\n",
              "      <th></th>\n",
              "      <th>gatewayName</th>\n",
              "      <th>rawData</th>\n",
              "      <th>symbol</th>\n",
              "      <th>exchange</th>\n",
              "      <th>vtSymbol</th>\n",
              "      <th>tradeID</th>\n",
              "      <th>vtTradeID</th>\n",
              "      <th>orderID</th>\n",
              "      <th>vtOrderID</th>\n",
              "      <th>direction</th>\n",
              "      <th>offset</th>\n",
              "      <th>price</th>\n",
              "      <th>volume</th>\n",
              "      <th>tradeTime</th>\n",
              "      <th>commission</th>\n",
              "      <th>balance</th>\n",
              "    </tr>\n",
              "    <tr>\n",
              "      <th>recieve_time</th>\n",
              "      <th></th>\n",
              "      <th></th>\n",
              "      <th></th>\n",
              "      <th></th>\n",
              "      <th></th>\n",
              "      <th></th>\n",
              "      <th></th>\n",
              "      <th></th>\n",
              "      <th></th>\n",
              "      <th></th>\n",
              "      <th></th>\n",
              "      <th></th>\n",
              "      <th></th>\n",
              "      <th></th>\n",
              "      <th></th>\n",
              "      <th></th>\n",
              "    </tr>\n",
              "  </thead>\n",
              "  <tbody>\n",
              "    <tr>\n",
              "      <th>2021-11-17 14:54:06.758797</th>\n",
              "      <td>NaN</td>\n",
              "      <td>NaN</td>\n",
              "      <td>cs2203</td>\n",
              "      <td>DCE</td>\n",
              "      <td>cs2203</td>\n",
              "      <td>278122</td>\n",
              "      <td>278122</td>\n",
              "      <td>337</td>\n",
              "      <td>20211117_DCE_      810314</td>\n",
              "      <td>空</td>\n",
              "      <td>开仓</td>\n",
              "      <td>3179.0</td>\n",
              "      <td>1</td>\n",
              "      <td>20211117 14:54:05</td>\n",
              "      <td>0.0</td>\n",
              "      <td>49999.4</td>\n",
              "    </tr>\n",
              "    <tr>\n",
              "      <th>2021-11-17 14:54:06.758797</th>\n",
              "      <td>NaN</td>\n",
              "      <td>NaN</td>\n",
              "      <td>c2203</td>\n",
              "      <td>DCE</td>\n",
              "      <td>c2203</td>\n",
              "      <td>278123</td>\n",
              "      <td>278123</td>\n",
              "      <td>338</td>\n",
              "      <td>20211117_DCE_      810315</td>\n",
              "      <td>多</td>\n",
              "      <td>开仓</td>\n",
              "      <td>2670.0</td>\n",
              "      <td>2</td>\n",
              "      <td>20211117 14:54:05</td>\n",
              "      <td>0.0</td>\n",
              "      <td>49997.9</td>\n",
              "    </tr>\n",
              "    <tr>\n",
              "      <th>2021-11-17 21:02:52.304763</th>\n",
              "      <td>NaN</td>\n",
              "      <td>NaN</td>\n",
              "      <td>cs2203</td>\n",
              "      <td>DCE</td>\n",
              "      <td>cs2203</td>\n",
              "      <td>6904</td>\n",
              "      <td>6904</td>\n",
              "      <td>16</td>\n",
              "      <td>20211117_DCE_       12790</td>\n",
              "      <td>多</td>\n",
              "      <td>开仓</td>\n",
              "      <td>3182.0</td>\n",
              "      <td>1</td>\n",
              "      <td>20211117 21:02:53</td>\n",
              "      <td>0.0</td>\n",
              "      <td>50117.3</td>\n",
              "    </tr>\n",
              "    <tr>\n",
              "      <th>2021-11-17 21:02:52.392701</th>\n",
              "      <td>NaN</td>\n",
              "      <td>NaN</td>\n",
              "      <td>cs2203</td>\n",
              "      <td>DCE</td>\n",
              "      <td>cs2203</td>\n",
              "      <td>6905</td>\n",
              "      <td>6905</td>\n",
              "      <td>17</td>\n",
              "      <td>20211117_DCE_       12791</td>\n",
              "      <td>多</td>\n",
              "      <td>平仓</td>\n",
              "      <td>3182.0</td>\n",
              "      <td>1</td>\n",
              "      <td>20211117 21:02:53</td>\n",
              "      <td>0.0</td>\n",
              "      <td>50116.1</td>\n",
              "    </tr>\n",
              "    <tr>\n",
              "      <th>2021-11-17 21:02:52.393701</th>\n",
              "      <td>NaN</td>\n",
              "      <td>NaN</td>\n",
              "      <td>c2203</td>\n",
              "      <td>DCE</td>\n",
              "      <td>c2203</td>\n",
              "      <td>6906</td>\n",
              "      <td>6906</td>\n",
              "      <td>18</td>\n",
              "      <td>20211117_DCE_       12792</td>\n",
              "      <td>空</td>\n",
              "      <td>平仓</td>\n",
              "      <td>2677.0</td>\n",
              "      <td>2</td>\n",
              "      <td>20211117 21:02:53</td>\n",
              "      <td>0.0</td>\n",
              "      <td>50113.1</td>\n",
              "    </tr>\n",
              "  </tbody>\n",
              "</table>\n",
              "</div>\n",
              "      <button class=\"colab-df-convert\" onclick=\"convertToInteractive('df-af34fdb1-6075-4677-9876-dd2a8e021c14')\"\n",
              "              title=\"Convert this dataframe to an interactive table.\"\n",
              "              style=\"display:none;\">\n",
              "        \n",
              "  <svg xmlns=\"http://www.w3.org/2000/svg\" height=\"24px\"viewBox=\"0 0 24 24\"\n",
              "       width=\"24px\">\n",
              "    <path d=\"M0 0h24v24H0V0z\" fill=\"none\"/>\n",
              "    <path d=\"M18.56 5.44l.94 2.06.94-2.06 2.06-.94-2.06-.94-.94-2.06-.94 2.06-2.06.94zm-11 1L8.5 8.5l.94-2.06 2.06-.94-2.06-.94L8.5 2.5l-.94 2.06-2.06.94zm10 10l.94 2.06.94-2.06 2.06-.94-2.06-.94-.94-2.06-.94 2.06-2.06.94z\"/><path d=\"M17.41 7.96l-1.37-1.37c-.4-.4-.92-.59-1.43-.59-.52 0-1.04.2-1.43.59L10.3 9.45l-7.72 7.72c-.78.78-.78 2.05 0 2.83L4 21.41c.39.39.9.59 1.41.59.51 0 1.02-.2 1.41-.59l7.78-7.78 2.81-2.81c.8-.78.8-2.07 0-2.86zM5.41 20L4 18.59l7.72-7.72 1.47 1.35L5.41 20z\"/>\n",
              "  </svg>\n",
              "      </button>\n",
              "      \n",
              "  <style>\n",
              "    .colab-df-container {\n",
              "      display:flex;\n",
              "      flex-wrap:wrap;\n",
              "      gap: 12px;\n",
              "    }\n",
              "\n",
              "    .colab-df-convert {\n",
              "      background-color: #E8F0FE;\n",
              "      border: none;\n",
              "      border-radius: 50%;\n",
              "      cursor: pointer;\n",
              "      display: none;\n",
              "      fill: #1967D2;\n",
              "      height: 32px;\n",
              "      padding: 0 0 0 0;\n",
              "      width: 32px;\n",
              "    }\n",
              "\n",
              "    .colab-df-convert:hover {\n",
              "      background-color: #E2EBFA;\n",
              "      box-shadow: 0px 1px 2px rgba(60, 64, 67, 0.3), 0px 1px 3px 1px rgba(60, 64, 67, 0.15);\n",
              "      fill: #174EA6;\n",
              "    }\n",
              "\n",
              "    [theme=dark] .colab-df-convert {\n",
              "      background-color: #3B4455;\n",
              "      fill: #D2E3FC;\n",
              "    }\n",
              "\n",
              "    [theme=dark] .colab-df-convert:hover {\n",
              "      background-color: #434B5C;\n",
              "      box-shadow: 0px 1px 3px 1px rgba(0, 0, 0, 0.15);\n",
              "      filter: drop-shadow(0px 1px 2px rgba(0, 0, 0, 0.3));\n",
              "      fill: #FFFFFF;\n",
              "    }\n",
              "  </style>\n",
              "\n",
              "      <script>\n",
              "        const buttonEl =\n",
              "          document.querySelector('#df-af34fdb1-6075-4677-9876-dd2a8e021c14 button.colab-df-convert');\n",
              "        buttonEl.style.display =\n",
              "          google.colab.kernel.accessAllowed ? 'block' : 'none';\n",
              "\n",
              "        async function convertToInteractive(key) {\n",
              "          const element = document.querySelector('#df-af34fdb1-6075-4677-9876-dd2a8e021c14');\n",
              "          const dataTable =\n",
              "            await google.colab.kernel.invokeFunction('convertToInteractive',\n",
              "                                                     [key], {});\n",
              "          if (!dataTable) return;\n",
              "\n",
              "          const docLinkHtml = 'Like what you see? Visit the ' +\n",
              "            '<a target=\"_blank\" href=https://colab.research.google.com/notebooks/data_table.ipynb>data table notebook</a>'\n",
              "            + ' to learn more about interactive tables.';\n",
              "          element.innerHTML = '';\n",
              "          dataTable['output_type'] = 'display_data';\n",
              "          await google.colab.output.renderOutput(dataTable, element);\n",
              "          const docLink = document.createElement('div');\n",
              "          docLink.innerHTML = docLinkHtml;\n",
              "          element.appendChild(docLink);\n",
              "        }\n",
              "      </script>\n",
              "    </div>\n",
              "  </div>\n",
              "  "
            ]
          },
          "metadata": {},
          "execution_count": 16
        }
      ]
    },
    {
      "cell_type": "code",
      "source": [
        "plt.figure(figsize = (12,5))\n",
        "plt.plot(df['price'])\n",
        "plt.title('Trade INDEX')\n",
        "plt.xlabel(\"time\")\n",
        "plt.ylabel('balance')\n",
        "plt.grid()\n",
        "plt.show()"
      ],
      "metadata": {
        "colab": {
          "base_uri": "https://localhost:8080/",
          "height": 350
        },
        "id": "09lZQB0YX77v",
        "outputId": "36de1f82-0238-4789-92ca-d8f76725769b"
      },
      "execution_count": 17,
      "outputs": [
        {
          "output_type": "display_data",
          "data": {
            "text/plain": [
              "<Figure size 864x360 with 1 Axes>"
            ],
            "image/png": "[encoded data removed]"
          },
          "metadata": {
            "needs_background": "light"
          }
        }
      ]
    },
    {
      "cell_type": "code",
      "source": [
        "# The graph shows the price of cs2203 and c2203 (2 kinds of traded good) on the future market from November 2021 to December 2021.\n",
        "# We can observe that the price movement have a cyclic feature. They also have have a upper and lower price bound of 3200 and 2700 repectively."
      ],
      "metadata": {
        "id": "8cSp8SkenLE2"
      },
      "execution_count": 18,
      "outputs": []
    }
  ]
}